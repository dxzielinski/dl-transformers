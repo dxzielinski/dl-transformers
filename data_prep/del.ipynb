{
 "cells": [
  {
   "cell_type": "code",
   "execution_count": 6,
   "id": "bd72f33e",
   "metadata": {},
   "outputs": [],
   "source": [
    "import torch\n",
    "import os"
   ]
  },
  {
   "cell_type": "code",
   "execution_count": 2,
   "id": "8df1c604",
   "metadata": {},
   "outputs": [],
   "source": [
    "example = torch.load(\"../data-mel-spectrograms/train/bed/0a7c2a8d_nohash_0.pt\")"
   ]
  },
  {
   "cell_type": "code",
   "execution_count": 3,
   "id": "7711b88b",
   "metadata": {},
   "outputs": [
    {
     "data": {
      "text/plain": [
       "torch.Size([1, 80, 13])"
      ]
     },
     "execution_count": 3,
     "metadata": {},
     "output_type": "execute_result"
    }
   ],
   "source": [
    "example.shape"
   ]
  },
  {
   "cell_type": "code",
   "execution_count": 4,
   "id": "693552e2",
   "metadata": {},
   "outputs": [
    {
     "data": {
      "text/plain": [
       "torch.Size([1, 80, 13])"
      ]
     },
     "execution_count": 4,
     "metadata": {},
     "output_type": "execute_result"
    }
   ],
   "source": [
    "example2 = torch.load(\"../data-mel-spectrograms/train/bed/0d2bcf9d_nohash_1.pt\")\n",
    "example2.shape"
   ]
  },
  {
   "cell_type": "code",
   "execution_count": 7,
   "id": "768f6e05",
   "metadata": {},
   "outputs": [],
   "source": [
    "all_beds = os.listdir(\"../data-mel-spectrograms/train/bed\")"
   ]
  },
  {
   "cell_type": "code",
   "execution_count": null,
   "id": "7dd77692",
   "metadata": {},
   "outputs": [
    {
     "name": "stdout",
     "output_type": "stream",
     "text": [
      "[1, 80, 32]\n"
     ]
    }
   ],
   "source": [
    "# walk through each subdirectory and find the largest shape of tensor\n",
    "largest_shape = [0,0,0]\n",
    "for _, dirs, files in os.walk(\"../data-mel-spectrograms/\"):\n",
    "    for subdir in dirs:\n",
    "        file = os.walk(os.path.join(\"../data-mel-spectrograms/\", subdir))\n",
    "        for subdir, dirs, files in file:\n",
    "            for f in files:\n",
    "                if f.endswith(\".pt\"):\n",
    "                    example = torch.load(os.path.join(subdir, f))\n",
    "                    if example.shape[0] > largest_shape[0]:\n",
    "                        largest_shape[0] = example.shape[0]\n",
    "                    if example.shape[1] > largest_shape[1]:\n",
    "                        largest_shape[1] = example.shape[1]\n",
    "                    if example.shape[2] > largest_shape[2]:\n",
    "                        largest_shape[2] = example.shape[2]\n",
    "print(largest_shape)\n"
   ]
  },
  {
   "cell_type": "code",
   "execution_count": 16,
   "id": "2b5bd48b",
   "metadata": {},
   "outputs": [
    {
     "name": "stdout",
     "output_type": "stream",
     "text": [
      "torch.Size([0, 0, 19])\n"
     ]
    }
   ],
   "source": [
    "pad_amount = torch.Size([largest_shape[0] - example.shape[0], largest_shape[1] - example.shape[1], largest_shape[2] - example.shape[2]])\n",
    "print(pad_amount)\n"
   ]
  },
  {
   "cell_type": "code",
   "execution_count": 23,
   "id": "09a17bc2",
   "metadata": {},
   "outputs": [
    {
     "name": "stdout",
     "output_type": "stream",
     "text": [
      "torch.Size([1, 80, 32])\n"
     ]
    }
   ],
   "source": [
    "pad_time_dim = pad_amount[-1]\n",
    "torch.save(torch.nn.functional.pad(example2, (0, pad_time_dim)), f=\"delete.pt\")\n",
    "print(torch.load(\"delete.pt\").shape)"
   ]
  },
  {
   "cell_type": "code",
   "execution_count": 21,
   "id": "6776c036",
   "metadata": {},
   "outputs": [],
   "source": [
    "time_dim = largest_shape[2]"
   ]
  },
  {
   "cell_type": "code",
   "execution_count": 24,
   "id": "f2d3db45",
   "metadata": {},
   "outputs": [
    {
     "name": "stdout",
     "output_type": "stream",
     "text": [
      "test\n",
      "../data-mel-spectrograms/test\n",
      "../data-mel-spectrograms/test\\bed\n",
      "../data-mel-spectrograms/test\\bird\n",
      "../data-mel-spectrograms/test\\cat\n",
      "../data-mel-spectrograms/test\\dog\n",
      "../data-mel-spectrograms/test\\down\n",
      "../data-mel-spectrograms/test\\eight\n",
      "../data-mel-spectrograms/test\\five\n",
      "../data-mel-spectrograms/test\\four\n",
      "../data-mel-spectrograms/test\\go\n",
      "../data-mel-spectrograms/test\\happy\n",
      "../data-mel-spectrograms/test\\house\n",
      "../data-mel-spectrograms/test\\left\n",
      "../data-mel-spectrograms/test\\marvin\n",
      "../data-mel-spectrograms/test\\nine\n",
      "../data-mel-spectrograms/test\\no\n",
      "../data-mel-spectrograms/test\\off\n",
      "../data-mel-spectrograms/test\\on\n",
      "../data-mel-spectrograms/test\\one\n",
      "../data-mel-spectrograms/test\\right\n",
      "../data-mel-spectrograms/test\\seven\n",
      "../data-mel-spectrograms/test\\sheila\n",
      "../data-mel-spectrograms/test\\six\n",
      "../data-mel-spectrograms/test\\stop\n",
      "../data-mel-spectrograms/test\\three\n",
      "../data-mel-spectrograms/test\\tree\n",
      "../data-mel-spectrograms/test\\two\n",
      "../data-mel-spectrograms/test\\up\n",
      "../data-mel-spectrograms/test\\wow\n",
      "../data-mel-spectrograms/test\\yes\n",
      "../data-mel-spectrograms/test\\zero\n",
      "train\n",
      "../data-mel-spectrograms/train\n",
      "../data-mel-spectrograms/train\\bed\n",
      "../data-mel-spectrograms/train\\bird\n",
      "../data-mel-spectrograms/train\\cat\n",
      "../data-mel-spectrograms/train\\dog\n",
      "../data-mel-spectrograms/train\\down\n",
      "../data-mel-spectrograms/train\\eight\n",
      "../data-mel-spectrograms/train\\five\n",
      "../data-mel-spectrograms/train\\four\n",
      "../data-mel-spectrograms/train\\go\n",
      "../data-mel-spectrograms/train\\happy\n",
      "../data-mel-spectrograms/train\\house\n",
      "../data-mel-spectrograms/train\\left\n",
      "../data-mel-spectrograms/train\\marvin\n",
      "../data-mel-spectrograms/train\\nine\n",
      "../data-mel-spectrograms/train\\no\n",
      "../data-mel-spectrograms/train\\off\n",
      "../data-mel-spectrograms/train\\on\n",
      "../data-mel-spectrograms/train\\one\n",
      "../data-mel-spectrograms/train\\right\n",
      "../data-mel-spectrograms/train\\seven\n",
      "../data-mel-spectrograms/train\\sheila\n",
      "../data-mel-spectrograms/train\\six\n",
      "../data-mel-spectrograms/train\\stop\n",
      "../data-mel-spectrograms/train\\three\n",
      "../data-mel-spectrograms/train\\tree\n",
      "../data-mel-spectrograms/train\\two\n",
      "../data-mel-spectrograms/train\\up\n",
      "../data-mel-spectrograms/train\\wow\n",
      "../data-mel-spectrograms/train\\yes\n",
      "../data-mel-spectrograms/train\\zero\n",
      "val\n",
      "../data-mel-spectrograms/val\n",
      "../data-mel-spectrograms/val\\bed\n",
      "../data-mel-spectrograms/val\\bird\n",
      "../data-mel-spectrograms/val\\cat\n",
      "../data-mel-spectrograms/val\\dog\n",
      "../data-mel-spectrograms/val\\down\n",
      "../data-mel-spectrograms/val\\eight\n",
      "../data-mel-spectrograms/val\\five\n",
      "../data-mel-spectrograms/val\\four\n",
      "../data-mel-spectrograms/val\\go\n",
      "../data-mel-spectrograms/val\\happy\n",
      "../data-mel-spectrograms/val\\house\n",
      "../data-mel-spectrograms/val\\left\n",
      "../data-mel-spectrograms/val\\marvin\n",
      "../data-mel-spectrograms/val\\nine\n",
      "../data-mel-spectrograms/val\\no\n",
      "../data-mel-spectrograms/val\\off\n",
      "../data-mel-spectrograms/val\\on\n",
      "../data-mel-spectrograms/val\\one\n",
      "../data-mel-spectrograms/val\\right\n",
      "../data-mel-spectrograms/val\\seven\n",
      "../data-mel-spectrograms/val\\sheila\n",
      "../data-mel-spectrograms/val\\six\n",
      "../data-mel-spectrograms/val\\stop\n",
      "../data-mel-spectrograms/val\\three\n",
      "../data-mel-spectrograms/val\\tree\n",
      "../data-mel-spectrograms/val\\two\n",
      "../data-mel-spectrograms/val\\up\n",
      "../data-mel-spectrograms/val\\wow\n",
      "../data-mel-spectrograms/val\\yes\n",
      "../data-mel-spectrograms/val\\zero\n",
      "bed\n",
      "bird\n",
      "cat\n",
      "dog\n",
      "down\n",
      "eight\n",
      "five\n",
      "four\n",
      "go\n",
      "happy\n",
      "house\n",
      "left\n",
      "marvin\n",
      "nine\n",
      "no\n",
      "off\n",
      "on\n",
      "one\n",
      "right\n",
      "seven\n",
      "sheila\n",
      "six\n",
      "stop\n",
      "three\n",
      "tree\n",
      "two\n",
      "up\n",
      "wow\n",
      "yes\n",
      "zero\n",
      "bed\n",
      "bird\n",
      "cat\n",
      "dog\n",
      "down\n",
      "eight\n",
      "five\n",
      "four\n",
      "go\n",
      "happy\n",
      "house\n",
      "left\n",
      "marvin\n",
      "nine\n",
      "no\n",
      "off\n",
      "on\n",
      "one\n",
      "right\n",
      "seven\n",
      "sheila\n",
      "six\n",
      "stop\n",
      "three\n",
      "tree\n",
      "two\n",
      "up\n",
      "wow\n",
      "yes\n",
      "zero\n",
      "bed\n",
      "bird\n",
      "cat\n",
      "dog\n",
      "down\n",
      "eight\n",
      "five\n",
      "four\n",
      "go\n",
      "happy\n",
      "house\n",
      "left\n",
      "marvin\n",
      "nine\n",
      "no\n",
      "off\n",
      "on\n",
      "one\n",
      "right\n",
      "seven\n",
      "sheila\n",
      "six\n",
      "stop\n",
      "three\n",
      "tree\n",
      "two\n",
      "up\n",
      "wow\n",
      "yes\n",
      "zero\n"
     ]
    }
   ],
   "source": [
    "for _, dirs, files in os.walk(\"../data-mel-spectrograms/\"):\n",
    "    for subdir in dirs:\n",
    "        print(subdir)\n",
    "        file = os.walk(os.path.join(\"../data-mel-spectrograms/\", subdir))\n",
    "        for subdir, dirs, files in file:\n",
    "            print(subdir)\n",
    "            for f in files:\n",
    "                if f.endswith(\".pt\"):\n",
    "                    example = torch.load(os.path.join(subdir, f))\n",
    "                    pad_time_dim = time_dim - example.shape[2]\n",
    "                    padded = torch.nn.functional.pad(example, (0, pad_time_dim))\n",
    "                    torch.save(padded, os.path.join(subdir, f))"
   ]
  }
 ],
 "metadata": {
  "kernelspec": {
   "display_name": ".venv",
   "language": "python",
   "name": "python3"
  },
  "language_info": {
   "codemirror_mode": {
    "name": "ipython",
    "version": 3
   },
   "file_extension": ".py",
   "mimetype": "text/x-python",
   "name": "python",
   "nbconvert_exporter": "python",
   "pygments_lexer": "ipython3",
   "version": "3.12.9"
  }
 },
 "nbformat": 4,
 "nbformat_minor": 5
}
