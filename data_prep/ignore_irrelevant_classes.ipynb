{
 "cells": [
  {
   "cell_type": "markdown",
   "id": "426668f5",
   "metadata": {},
   "source": [
    "This notebook creates additional classes: silence and unknown."
   ]
  },
  {
   "cell_type": "code",
   "execution_count": 3,
   "id": "18be3a0f",
   "metadata": {},
   "outputs": [],
   "source": [
    "import os\n",
    "import shutil"
   ]
  },
  {
   "cell_type": "code",
   "execution_count": 2,
   "id": "fae2c5cf",
   "metadata": {},
   "outputs": [],
   "source": [
    "LABELS = {\"yes\", \"no\", \"up\", \"down\", \"left\", \"right\", \"on\", \"off\", \"stop\", \"go\"}\n",
    "OTHER_LABELS = [\"silence\", \"unknown\"]\n",
    "\n",
    "SPLITS = [\"train\", \"val\", \"test\"]\n"
   ]
  },
  {
   "cell_type": "code",
   "execution_count": 3,
   "id": "8384ebf0",
   "metadata": {},
   "outputs": [],
   "source": [
    "def consolidate_unknown(root_dir: str):\n",
    "    \"\"\"\n",
    "    For each split under root_dir, move any folder\n",
    "    whose name is not in LABELS into an 'unknown' folder.\n",
    "    \"\"\"\n",
    "    for split in SPLITS:\n",
    "        split_path = os.path.join(root_dir, split)\n",
    "        if not os.path.isdir(split_path):\n",
    "            print(f\"Warning: '{split_path}' does not exist, skipping.\")\n",
    "            continue\n",
    "\n",
    "        unknown_path = os.path.join(split_path, \"unknown\")\n",
    "        os.makedirs(unknown_path, exist_ok=True)\n",
    "\n",
    "        for entry in os.listdir(split_path):\n",
    "            entry_path = os.path.join(split_path, entry)\n",
    "            if not os.path.isdir(entry_path):\n",
    "                continue\n",
    "            if entry == \"unknown\":\n",
    "                continue\n",
    "\n",
    "            if entry not in LABELS:\n",
    "                print(f\"  Moving '{split}/{entry}/' → '{split}/unknown/'\")\n",
    "                for filename in os.listdir(entry_path):\n",
    "                    src_file = os.path.join(entry_path, filename)\n",
    "                    dst_file = os.path.join(unknown_path, filename)\n",
    "                    base, ext = os.path.splitext(filename)\n",
    "                    counter = 1\n",
    "                    while os.path.exists(dst_file):\n",
    "                        dst_file = os.path.join(\n",
    "                            unknown_path, f\"{base}_{counter}{ext}\"\n",
    "                        )\n",
    "                        counter += 1\n",
    "                    shutil.move(src_file, dst_file)\n",
    "                os.rmdir(entry_path)"
   ]
  },
  {
   "cell_type": "code",
   "execution_count": 4,
   "id": "7cb2a059",
   "metadata": {},
   "outputs": [
    {
     "name": "stdout",
     "output_type": "stream",
     "text": [
      "  Moving 'train/bed/' → 'train/unknown/'\n",
      "  Moving 'train/bird/' → 'train/unknown/'\n",
      "  Moving 'train/cat/' → 'train/unknown/'\n",
      "  Moving 'train/dog/' → 'train/unknown/'\n",
      "  Moving 'train/eight/' → 'train/unknown/'\n",
      "  Moving 'train/five/' → 'train/unknown/'\n",
      "  Moving 'train/four/' → 'train/unknown/'\n",
      "  Moving 'train/happy/' → 'train/unknown/'\n",
      "  Moving 'train/house/' → 'train/unknown/'\n",
      "  Moving 'train/marvin/' → 'train/unknown/'\n",
      "  Moving 'train/nine/' → 'train/unknown/'\n",
      "  Moving 'train/one/' → 'train/unknown/'\n",
      "  Moving 'train/seven/' → 'train/unknown/'\n",
      "  Moving 'train/sheila/' → 'train/unknown/'\n",
      "  Moving 'train/six/' → 'train/unknown/'\n",
      "  Moving 'train/three/' → 'train/unknown/'\n",
      "  Moving 'train/tree/' → 'train/unknown/'\n",
      "  Moving 'train/two/' → 'train/unknown/'\n",
      "  Moving 'train/wow/' → 'train/unknown/'\n",
      "  Moving 'train/zero/' → 'train/unknown/'\n",
      "  Moving 'val/bed/' → 'val/unknown/'\n",
      "  Moving 'val/bird/' → 'val/unknown/'\n",
      "  Moving 'val/cat/' → 'val/unknown/'\n",
      "  Moving 'val/dog/' → 'val/unknown/'\n",
      "  Moving 'val/eight/' → 'val/unknown/'\n",
      "  Moving 'val/five/' → 'val/unknown/'\n",
      "  Moving 'val/four/' → 'val/unknown/'\n",
      "  Moving 'val/happy/' → 'val/unknown/'\n",
      "  Moving 'val/house/' → 'val/unknown/'\n",
      "  Moving 'val/marvin/' → 'val/unknown/'\n",
      "  Moving 'val/nine/' → 'val/unknown/'\n",
      "  Moving 'val/one/' → 'val/unknown/'\n",
      "  Moving 'val/seven/' → 'val/unknown/'\n",
      "  Moving 'val/sheila/' → 'val/unknown/'\n",
      "  Moving 'val/six/' → 'val/unknown/'\n",
      "  Moving 'val/three/' → 'val/unknown/'\n",
      "  Moving 'val/tree/' → 'val/unknown/'\n",
      "  Moving 'val/two/' → 'val/unknown/'\n",
      "  Moving 'val/wow/' → 'val/unknown/'\n",
      "  Moving 'val/zero/' → 'val/unknown/'\n",
      "  Moving 'test/bed/' → 'test/unknown/'\n",
      "  Moving 'test/bird/' → 'test/unknown/'\n",
      "  Moving 'test/cat/' → 'test/unknown/'\n",
      "  Moving 'test/dog/' → 'test/unknown/'\n",
      "  Moving 'test/eight/' → 'test/unknown/'\n",
      "  Moving 'test/five/' → 'test/unknown/'\n",
      "  Moving 'test/four/' → 'test/unknown/'\n",
      "  Moving 'test/happy/' → 'test/unknown/'\n",
      "  Moving 'test/house/' → 'test/unknown/'\n",
      "  Moving 'test/marvin/' → 'test/unknown/'\n",
      "  Moving 'test/nine/' → 'test/unknown/'\n",
      "  Moving 'test/one/' → 'test/unknown/'\n",
      "  Moving 'test/seven/' → 'test/unknown/'\n",
      "  Moving 'test/sheila/' → 'test/unknown/'\n",
      "  Moving 'test/six/' → 'test/unknown/'\n",
      "  Moving 'test/three/' → 'test/unknown/'\n",
      "  Moving 'test/tree/' → 'test/unknown/'\n",
      "  Moving 'test/two/' → 'test/unknown/'\n",
      "  Moving 'test/wow/' → 'test/unknown/'\n",
      "  Moving 'test/zero/' → 'test/unknown/'\n"
     ]
    }
   ],
   "source": [
    "consolidate_unknown(\"../data-no-noise-no-silence\")"
   ]
  },
  {
   "cell_type": "code",
   "execution_count": 1,
   "id": "3b3c30bb",
   "metadata": {},
   "outputs": [],
   "source": [
    "import librosa\n",
    "import numpy as np\n",
    "import soundfile as sf\n",
    "import noisereduce as nr\n",
    "import matplotlib.pyplot as plt"
   ]
  },
  {
   "cell_type": "code",
   "execution_count": 4,
   "id": "ff4f97e3",
   "metadata": {},
   "outputs": [
    {
     "name": "stdout",
     "output_type": "stream",
     "text": [
      "Processing doing_the_dishes.wav...\n",
      "  Splitting into 95 chunks of 44100 samples each...\n",
      "Processing dude_miaowing.wav...\n",
      "  Splitting into 61 chunks of 44100 samples each...\n",
      "Processing exercise_bike.wav...\n",
      "  Splitting into 61 chunks of 44100 samples each...\n",
      "Processing pink_noise.wav...\n",
      "  Splitting into 60 chunks of 44100 samples each...\n",
      "Processing running_tap.wav...\n",
      "  Splitting into 61 chunks of 44100 samples each...\n",
      "Processing white_noise.wav...\n",
      "  Splitting into 60 chunks of 44100 samples each...\n"
     ]
    }
   ],
   "source": [
    "CHUNK_DURATION_S = 1.0\n",
    "BG_DIR = \"C:/Users/SPCX/Downloads/tensorflow-speech-recognition-challenge/train/train/audio/_background_noise_\"\n",
    "SPLIT_FILES = {\n",
    "    \"train\": [\"doing_the_dishes.wav\",\n",
    "              \"dude_miaowing.wav\",\n",
    "              \"exercise_bike.wav\",\n",
    "              \"pink_noise.wav\"],\n",
    "    \"val\":   [\"running_tap.wav\"],\n",
    "    \"test\":  [\"white_noise.wav\"],\n",
    "}\n",
    "\n",
    "global_min_db = -40\n",
    "global_max_db = 60\n",
    "sampling_rate = 44100\n",
    "frame_length = 1024\n",
    "hop_length = 512\n",
    "\n",
    "for split, files in SPLIT_FILES.items():\n",
    "    out_dir = os.path.join(\"../data-no-noise-no-silence\", split, \"silence\")\n",
    "    os.makedirs(out_dir, exist_ok=True)\n",
    "\n",
    "    for fname in files:\n",
    "        print(f\"Processing {fname}...\")\n",
    "        src_path = os.path.join(BG_DIR, fname)\n",
    "        audio, sr = librosa.load(src_path, sr=sampling_rate)\n",
    "        noise_profile = audio[:int(sr * 0.5)]\n",
    "        reduced_noise = nr.reduce_noise(y=audio, sr=sr, y_noise=noise_profile, prop_decrease=1.0)\n",
    "        non_silent_intervals = librosa.effects.split(reduced_noise, top_db=30)  # Adjust top_db to control sensitivity\n",
    "        non_silent_audio = np.concatenate([reduced_noise[start:end] for start, end in non_silent_intervals])\n",
    "        total_samples = len(audio)\n",
    "        samples_per_chunk = int(sr * CHUNK_DURATION_S)\n",
    "        n_chunks = total_samples // samples_per_chunk\n",
    "        base = os.path.splitext(fname)[0]\n",
    "        print(f\"  Splitting into {n_chunks} chunks of {samples_per_chunk} samples each...\")\n",
    "        for i in range(n_chunks):\n",
    "            out_name = f\"{base}_{i:03d}.png\"\n",
    "            start = i * samples_per_chunk\n",
    "            end = start + samples_per_chunk\n",
    "            chunk = audio[start:end]\n",
    "            stft = librosa.stft(chunk)\n",
    "            stft_db = librosa.amplitude_to_db(np.abs(stft))\n",
    "            plt.figure(figsize=(14, 5), dpi=400)\n",
    "            librosa.display.specshow(stft_db, sr=sr, x_axis=None, y_axis=None,\n",
    "                                    vmin=global_min_db, vmax=global_max_db, cmap='gray')\n",
    "            plt.axis('off')\n",
    "            plt.savefig(os.path.join(out_dir, out_name), bbox_inches='tight', pad_inches=0)\n",
    "            plt.close()\n"
   ]
  },
  {
   "cell_type": "markdown",
   "id": "6fc0abfe",
   "metadata": {},
   "source": [
    "- doing_the_dishes: 95s\n",
    "- dude_miaowing: 61s\n",
    "- exercise_bike:61s\n",
    "- pink_noise: 60s\n",
    "- running_tap: 61s\n",
    "- white_noise: 60s"
   ]
  }
 ],
 "metadata": {
  "kernelspec": {
   "display_name": ".venv",
   "language": "python",
   "name": "python3"
  },
  "language_info": {
   "codemirror_mode": {
    "name": "ipython",
    "version": 3
   },
   "file_extension": ".py",
   "mimetype": "text/x-python",
   "name": "python",
   "nbconvert_exporter": "python",
   "pygments_lexer": "ipython3",
   "version": "3.12.9"
  }
 },
 "nbformat": 4,
 "nbformat_minor": 5
}
